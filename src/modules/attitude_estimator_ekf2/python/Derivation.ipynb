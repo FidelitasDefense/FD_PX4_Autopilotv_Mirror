{
 "cells": [
  {
   "cell_type": "code",
   "execution_count": 19,
   "metadata": {
    "collapsed": false
   },
   "outputs": [],
   "source": [
    "from __future__ import division, print_function\n",
    "import sympy\n",
    "import sympy.physics.mechanics as mech\n",
    "import pylab as pl\n",
    "import scipy.integrate\n",
    "import numpy\n",
    "import re\n",
    "\n",
    "import quaternion\n",
    "import sympy_utils\n",
    "\n",
    "sympy.init_printing()\n",
    "mech.init_vprinting()"
   ]
  },
  {
   "cell_type": "markdown",
   "metadata": {},
   "source": [
    "# Frame and Coordinate Definitions"
   ]
  },
  {
   "cell_type": "code",
   "execution_count": 2,
   "metadata": {
    "collapsed": true
   },
   "outputs": [],
   "source": [
    "t, g = sympy.symbols('t, g')\n",
    "q_nr_coord = sympy.Matrix(mech.dynamicsymbols('q_0:4'))\n",
    "q_nr = q_nr_coord\n",
    "alpha_b_coord = sympy.Matrix(mech.dynamicsymbols('alpha_x:z'))\n",
    "omega_b_coord = sympy.Matrix(mech.dynamicsymbols('omega_x:z'))\n",
    "a_b_coord = sympy.Matrix(mech.dynamicsymbols('a_x:z'))\n",
    "b_b_coord = sympy.Matrix(mech.dynamicsymbols('b_x:z'))\n",
    "m_n_coord = sympy.Matrix(mech.dynamicsymbols('m_N, m_E, m_D'))\n",
    "\n",
    "# for position, just focusing on attitude currently\n",
    "#p_n_coord = sympy.Matrix(mech.dynamicsymbols('p_N, p_E, p_D'))\n",
    "#v_n_coord = sympy.Matrix(mech.dynamicsymbols('v_N, v_E, v_D'))\n",
    "#c_b_coord = sympy.Matrix(mech.dynamicsymbols('c_x:z'))\n",
    "\n",
    "frame_n = mech.ReferenceFrame('n')\n",
    "frame_r = frame_n.orientnew('r', 'Quaternion', q_nr_coord)\n",
    "frame_b = frame_r.orientnew('b', 'Body', alpha_b_coord, '123')\n",
    "\n",
    "a_b = a_b_coord[0]*frame_b.x + a_b_coord[1]*frame_b.y + a_b_coord[2]*frame_b.z\n",
    "omega_nb = (omega_b_coord[0] + b_b_coord[0])*frame_b.x +     (omega_b_coord[1] + b_b_coord[1])*frame_b.y +     (omega_b_coord[2] + b_b_coord[2])*frame_b.z\n",
    "omega_nr = omega_b_coord[0]*frame_r.x + omega_b_coord[1]*frame_r.y + omega_b_coord[2]*frame_r.z\n",
    "\n",
    "# for position, just focusing on attitude currently\n",
    "#v_n = v_n_coord[0]*frame_n.x + v_n_coord[1]*frame_n.y + v_n_coord[2]*frame_n.z\n",
    "#p_n = p_n_coord[0]*frame_n.x + p_n_coord[1]*frame_n.y + p_n_coord[2]*frame_n.z\n",
    "\n",
    "m_n = m_n_coord[0]*frame_n.x + m_n_coord[1]*frame_n.y + m_n_coord[2]*frame_n.z \n",
    "\n",
    "coords = list(q_nr_coord) + list(m_n_coord) + list(omega_b_coord) + list(a_b_coord)\n",
    "\n",
    "sub_x0 = { alpha_b_coord[i] : 0 for i in range(3)}\n",
    "sub_x0.update({b_b_coord[i] : 0 for i in range(3)})\n",
    "sub_no_t = {_v: sympy.Symbol(str(_v).replace('(t)','')) for _v in coords}"
   ]
  },
  {
   "cell_type": "code",
   "execution_count": 3,
   "metadata": {
    "collapsed": false
   },
   "outputs": [
    {
     "data": {
      "image/png": "[encoded data removed]",
      "text/latex": [
       "$$2 q_{0} \\dot{q}_{0} + 2 q_{1} \\dot{q}_{1} + 2 q_{2} \\dot{q}_{2} + 2 q_{3} \\dot{q}_{3}$$"
      ],
      "text/plain": [
       "2⋅q₀⋅q₀̇ + 2⋅q₁⋅q₁̇ + 2⋅q₂⋅q₂̇ + 2⋅q₃⋅q₃̇"
      ]
     },
     "execution_count": 3,
     "metadata": {},
     "output_type": "execute_result"
    }
   ],
   "source": [
    "q_nr.dot(q_nr).diff(t)"
   ]
  },
  {
   "cell_type": "markdown",
   "metadata": {},
   "source": [
    "Body frame is rotating at measured angular velocity.\n"
   ]
  },
  {
   "cell_type": "code",
   "execution_count": 4,
   "metadata": {
    "collapsed": false
   },
   "outputs": [
    {
     "data": {
      "image/png": "[encoded data removed]",
      "text/latex": [
       "$$(b_{x} + \\omega_{x})\\mathbf{\\hat{b}_x} + (b_{y} + \\omega_{y})\\mathbf{\\hat{b}_y} + (b_{z} + \\omega_{z})\\mathbf{\\hat{b}_z}$$"
      ],
      "text/plain": [
       "(bₓ + ωₓ) b_x + (b_y + ω_y) b_y + (b_z + ω_z) b_z"
      ]
     },
     "execution_count": 4,
     "metadata": {},
     "output_type": "execute_result"
    }
   ],
   "source": [
    "omega_nb"
   ]
  },
  {
   "cell_type": "code",
   "execution_count": 5,
   "metadata": {
    "collapsed": false
   },
   "outputs": [
    {
     "data": {
      "image/png": "[encoded data removed]",
      "text/latex": [
       "$$\\omega_{x}\\mathbf{\\hat{r}_x} + \\omega_{y}\\mathbf{\\hat{r}_y} + \\omega_{z}\\mathbf{\\hat{r}_z}$$"
      ],
      "text/plain": [
       "ωₓ r_x + ω_y r_y + ω_z r_z"
      ]
     },
     "execution_count": 5,
     "metadata": {},
     "output_type": "execute_result"
    }
   ],
   "source": [
    "omega_nr"
   ]
  },
  {
   "cell_type": "markdown",
   "metadata": {},
   "source": [
    "We solve for the reference frame kinematics."
   ]
  },
  {
   "cell_type": "code",
   "execution_count": 6,
   "metadata": {
    "collapsed": false
   },
   "outputs": [
    {
     "data": {
      "image/png": "[encoded data removed]",
      "text/latex": [
       "$$\\left \\{ \\dot{q}_{0} : - \\frac{\\omega_{x} q_{1}}{2} - \\frac{\\omega_{y} q_{2}}{2} - \\frac{\\omega_{z} q_{3}}{2}, \\quad \\dot{q}_{1} : \\frac{\\omega_{x} q_{0}}{2} - \\frac{\\omega_{y} q_{3}}{2} + \\frac{\\omega_{z} q_{2}}{2}, \\quad \\dot{q}_{2} : \\frac{\\omega_{x} q_{3}}{2} + \\frac{\\omega_{y} q_{0}}{2} - \\frac{\\omega_{z} q_{1}}{2}, \\quad \\dot{q}_{3} : - \\frac{\\omega_{x} q_{2}}{2} + \\frac{\\omega_{y} q_{1}}{2} + \\frac{\\omega_{z} q_{0}}{2}\\right \\}$$"
      ],
      "text/plain": [
       "⎧       ωₓ⋅q₁   ω_y⋅q₂   ω_z⋅q₃       ωₓ⋅q₀   ω_y⋅q₃   ω_z⋅q₂       ωₓ⋅q₃   ω_\n",
       "⎨q₀̇: - ───── - ────── - ──────, q₁̇: ───── - ────── + ──────, q₂̇: ───── + ──\n",
       "⎩         2       2        2            2       2        2            2       \n",
       "\n",
       "y⋅q₀   ω_z⋅q₁         ωₓ⋅q₂   ω_y⋅q₁   ω_z⋅q₀⎫\n",
       "──── - ──────, q₃̇: - ───── + ────── + ──────⎬\n",
       "2        2              2       2        2   ⎭"
      ]
     },
     "execution_count": 6,
     "metadata": {},
     "output_type": "execute_result"
    }
   ],
   "source": [
    "sol_q_dot = sympy.solve([(frame_r.ang_vel_in(frame_n) - omega_nr).to_matrix(frame_r)] +\n",
    "            [q_nr.dot(q_nr).diff(t)],\n",
    "            q_nr_coord.diff(t))\n",
    "sol_q_dot = {key: sol_q_dot[key].subs(q_nr.dot(q_nr), 1) for key in sol_q_dot.keys()}\n",
    "sol_q_dot"
   ]
  },
  {
   "cell_type": "markdown",
   "metadata": {},
   "source": [
    "Now we solve for the alignment frame kinematics."
   ]
  },
  {
   "cell_type": "code",
   "execution_count": 7,
   "metadata": {
    "collapsed": true
   },
   "outputs": [],
   "source": [
    "eq_alpha_dot = ((frame_b.ang_vel_in(frame_n) - omega_nb)).to_matrix(frame_b).subs(sol_q_dot).simplify()\n",
    "sol_alpha_dot = sympy.solve(eq_alpha_dot, alpha_b_coord.diff(t))\n",
    "sol_b_dot = {b_b_coord[i].diff(t): 0 for i in range(3)}"
   ]
  },
  {
   "cell_type": "markdown",
   "metadata": {},
   "source": [
    "# State Space and Linearization"
   ]
  },
  {
   "cell_type": "code",
   "execution_count": 8,
   "metadata": {
    "collapsed": false
   },
   "outputs": [
    {
     "data": {
      "image/png": "[encoded data removed]",
      "text/latex": [
       "$$\\left[\\begin{matrix}\\alpha_{x} & \\alpha_{y} & \\alpha_{z} & b_{x} & b_{y} & b_{z}\\end{matrix}\\right]$$"
      ],
      "text/plain": [
       "[αₓ  α_y  α_z  bₓ  b_y  b_z]"
      ]
     },
     "execution_count": 8,
     "metadata": {},
     "output_type": "execute_result"
    }
   ],
   "source": [
    "x = sympy.Matrix(list(alpha_b_coord) +  list(b_b_coord))\n",
    "x.T"
   ]
  },
  {
   "cell_type": "code",
   "execution_count": 9,
   "metadata": {
    "collapsed": false
   },
   "outputs": [
    {
     "data": {
      "image/png": "[encoded data removed]",
      "text/latex": [
       "$$\\left[\\begin{matrix}\\frac{b_{x} \\operatorname{cos}\\left(\\alpha_{z}\\right)}{\\operatorname{cos}\\left(\\alpha_{y}\\right)} - \\frac{b_{y} \\operatorname{sin}\\left(\\alpha_{z}\\right)}{\\operatorname{cos}\\left(\\alpha_{y}\\right)} - \\omega_{x} q^{2}_{0} - \\omega_{x} q^{2}_{1} - \\omega_{x} q^{2}_{2} - \\omega_{x} q^{2}_{3} + \\frac{\\omega_{x} \\operatorname{cos}\\left(\\alpha_{z}\\right)}{\\operatorname{cos}\\left(\\alpha_{y}\\right)} - \\omega_{y} q^{2}_{0} \\operatorname{sin}\\left(\\alpha_{x}\\right) \\operatorname{tan}\\left(\\alpha_{y}\\right) - \\omega_{y} q^{2}_{1} \\operatorname{sin}\\left(\\alpha_{x}\\right) \\operatorname{tan}\\left(\\alpha_{y}\\right) - \\omega_{y} q^{2}_{2} \\operatorname{sin}\\left(\\alpha_{x}\\right) \\operatorname{tan}\\left(\\alpha_{y}\\right) - \\omega_{y} q^{2}_{3} \\operatorname{sin}\\left(\\alpha_{x}\\right) \\operatorname{tan}\\left(\\alpha_{y}\\right) - \\frac{\\omega_{y} \\operatorname{sin}\\left(\\alpha_{z}\\right)}{\\operatorname{cos}\\left(\\alpha_{y}\\right)} + \\omega_{z} q^{2}_{0} \\operatorname{cos}\\left(\\alpha_{x}\\right) \\operatorname{tan}\\left(\\alpha_{y}\\right) + \\omega_{z} q^{2}_{1} \\operatorname{cos}\\left(\\alpha_{x}\\right) \\operatorname{tan}\\left(\\alpha_{y}\\right) + \\omega_{z} q^{2}_{2} \\operatorname{cos}\\left(\\alpha_{x}\\right) \\operatorname{tan}\\left(\\alpha_{y}\\right) + \\omega_{z} q^{2}_{3} \\operatorname{cos}\\left(\\alpha_{x}\\right) \\operatorname{tan}\\left(\\alpha_{y}\\right)\\\\b_{x} \\operatorname{sin}\\left(\\alpha_{z}\\right) + b_{y} \\operatorname{cos}\\left(\\alpha_{z}\\right) + \\omega_{x} \\operatorname{sin}\\left(\\alpha_{z}\\right) - \\omega_{y} q^{2}_{0} \\operatorname{cos}\\left(\\alpha_{x}\\right) - \\omega_{y} q^{2}_{1} \\operatorname{cos}\\left(\\alpha_{x}\\right) - \\omega_{y} q^{2}_{2} \\operatorname{cos}\\left(\\alpha_{x}\\right) - \\omega_{y} q^{2}_{3} \\operatorname{cos}\\left(\\alpha_{x}\\right) + \\omega_{y} \\operatorname{cos}\\left(\\alpha_{z}\\right) - \\omega_{z} q^{2}_{0} \\operatorname{sin}\\left(\\alpha_{x}\\right) - \\omega_{z} q^{2}_{1} \\operatorname{sin}\\left(\\alpha_{x}\\right) - \\omega_{z} q^{2}_{2} \\operatorname{sin}\\left(\\alpha_{x}\\right) - \\omega_{z} q^{2}_{3} \\operatorname{sin}\\left(\\alpha_{x}\\right)\\\\\\frac{1}{\\operatorname{cos}\\left(\\alpha_{y}\\right)} \\left(- b_{x} \\operatorname{sin}\\left(\\alpha_{y}\\right) \\operatorname{cos}\\left(\\alpha_{z}\\right) + b_{y} \\operatorname{sin}\\left(\\alpha_{y}\\right) \\operatorname{sin}\\left(\\alpha_{z}\\right) + b_{z} \\operatorname{cos}\\left(\\alpha_{y}\\right) - \\omega_{x} \\operatorname{sin}\\left(\\alpha_{y}\\right) \\operatorname{cos}\\left(\\alpha_{z}\\right) + \\omega_{y} q^{2}_{0} \\operatorname{sin}\\left(\\alpha_{x}\\right) + \\omega_{y} q^{2}_{1} \\operatorname{sin}\\left(\\alpha_{x}\\right) + \\omega_{y} q^{2}_{2} \\operatorname{sin}\\left(\\alpha_{x}\\right) + \\omega_{y} q^{2}_{3} \\operatorname{sin}\\left(\\alpha_{x}\\right) + \\omega_{y} \\operatorname{sin}\\left(\\alpha_{y}\\right) \\operatorname{sin}\\left(\\alpha_{z}\\right) - \\omega_{z} q^{2}_{0} \\operatorname{cos}\\left(\\alpha_{x}\\right) - \\omega_{z} q^{2}_{1} \\operatorname{cos}\\left(\\alpha_{x}\\right) - \\omega_{z} q^{2}_{2} \\operatorname{cos}\\left(\\alpha_{x}\\right) - \\omega_{z} q^{2}_{3} \\operatorname{cos}\\left(\\alpha_{x}\\right) + \\omega_{z} \\operatorname{cos}\\left(\\alpha_{y}\\right)\\right)\\\\\\dot{b}_{x}\\\\\\dot{b}_{y}\\\\\\dot{b}_{z}\\end{matrix}\\right]$$"
      ],
      "text/plain": [
       "⎡bₓ⋅cos(α_z)   b_y⋅sin(α_z)        2        2        2        2   ωₓ⋅cos(α_z) \n",
       "⎢─────────── - ──────────── - ωₓ⋅q₀  - ωₓ⋅q₁  - ωₓ⋅q₂  - ωₓ⋅q₃  + ─────────── \n",
       "⎢  cos(α_y)      cos(α_y)                                           cos(α_y)  \n",
       "⎢                                                                             \n",
       "⎢                                                                             \n",
       "⎢                                                      bₓ⋅sin(α_z) + b_y⋅cos(α\n",
       "⎢                                                                             \n",
       "⎢                                                                             \n",
       "⎢                    -bₓ⋅sin(α_y)⋅cos(α_z) + b_y⋅sin(α_y)⋅sin(α_z) + b_z⋅cos(α\n",
       "⎢                    ─────────────────────────────────────────────────────────\n",
       "⎢                                                                             \n",
       "⎢                                                                             \n",
       "⎢                                                                             \n",
       "⎢                                                                             \n",
       "⎢                                                                             \n",
       "⎢                                                                             \n",
       "⎣                                                                             \n",
       "\n",
       "        2                          2                          2               \n",
       "- ω_y⋅q₀ ⋅sin(αₓ)⋅tan(α_y) - ω_y⋅q₁ ⋅sin(αₓ)⋅tan(α_y) - ω_y⋅q₂ ⋅sin(αₓ)⋅tan(α_\n",
       "                                                                              \n",
       "                                                                              \n",
       "                          2                 2                 2               \n",
       "_z) + ωₓ⋅sin(α_z) - ω_y⋅q₀ ⋅cos(αₓ) - ω_y⋅q₁ ⋅cos(αₓ) - ω_y⋅q₂ ⋅cos(αₓ) - ω_y⋅\n",
       "                                                                              \n",
       "                                   2                 2                 2      \n",
       "_y) - ωₓ⋅sin(α_y)⋅cos(α_z) + ω_y⋅q₀ ⋅sin(αₓ) + ω_y⋅q₁ ⋅sin(αₓ) + ω_y⋅q₂ ⋅sin(α\n",
       "──────────────────────────────────────────────────────────────────────────────\n",
       "                                                                        cos(α_\n",
       "                                                                              \n",
       "                                                                           bₓ̇\n",
       "                                                                              \n",
       "                                                                          b_̇y\n",
       "                                                                              \n",
       "                                                                          b_̇z\n",
       "\n",
       "           2                    ω_y⋅sin(α_z)         2                        \n",
       "y) - ω_y⋅q₃ ⋅sin(αₓ)⋅tan(α_y) - ──────────── + ω_z⋅q₀ ⋅cos(αₓ)⋅tan(α_y) + ω_z⋅\n",
       "                                  cos(α_y)                                    \n",
       "                                                                              \n",
       "  2                                2                 2                 2      \n",
       "q₃ ⋅cos(αₓ) + ω_y⋅cos(α_z) - ω_z⋅q₀ ⋅sin(αₓ) - ω_z⋅q₁ ⋅sin(αₓ) - ω_z⋅q₂ ⋅sin(α\n",
       "                                                                              \n",
       "           2                                         2                 2      \n",
       "ₓ) + ω_y⋅q₃ ⋅sin(αₓ) + ω_y⋅sin(α_y)⋅sin(α_z) - ω_z⋅q₀ ⋅cos(αₓ) - ω_z⋅q₁ ⋅cos(α\n",
       "──────────────────────────────────────────────────────────────────────────────\n",
       "y)                                                                            \n",
       "                                                                              \n",
       "                                                                              \n",
       "                                                                              \n",
       "                                                                              \n",
       "                                                                              \n",
       "                                                                              \n",
       "\n",
       "  2                          2                          2                 ⎤\n",
       "q₁ ⋅cos(αₓ)⋅tan(α_y) + ω_z⋅q₂ ⋅cos(αₓ)⋅tan(α_y) + ω_z⋅q₃ ⋅cos(αₓ)⋅tan(α_y)⎥\n",
       "                                                                          ⎥\n",
       "                                                                          ⎥\n",
       "           2                                                              ⎥\n",
       "ₓ) - ω_z⋅q₃ ⋅sin(αₓ)                                                      ⎥\n",
       "                                                                          ⎥\n",
       "           2                 2                                            ⎥\n",
       "ₓ) - ω_z⋅q₂ ⋅cos(αₓ) - ω_z⋅q₃ ⋅cos(αₓ) + ω_z⋅cos(α_y)                     ⎥\n",
       "─────────────────────────────────────────────────────                     ⎥\n",
       "                                                                          ⎥\n",
       "                                                                          ⎥\n",
       "                                                                          ⎥\n",
       "                                                                          ⎥\n",
       "                                                                          ⎥\n",
       "                                                                          ⎥\n",
       "                                                                          ⎦"
      ]
     },
     "execution_count": 9,
     "metadata": {},
     "output_type": "execute_result"
    }
   ],
   "source": [
    "f = x.diff(t).subs(sol_alpha_dot)\n",
    "f"
   ]
  },
  {
   "cell_type": "markdown",
   "metadata": {},
   "source": [
    "There is no need to propagate the alignment errors, since our best guess is always that the alignment errors are zero."
   ]
  },
  {
   "cell_type": "code",
   "execution_count": 10,
   "metadata": {
    "collapsed": false
   },
   "outputs": [
    {
     "data": {
      "image/png": "[encoded data removed]",
      "text/latex": [
       "$$\\left[\\begin{matrix}0 & 0 & 0 & 0 & 0 & 0\\end{matrix}\\right]$$"
      ],
      "text/plain": [
       "[0  0  0  0  0  0]"
      ]
     },
     "execution_count": 10,
     "metadata": {},
     "output_type": "execute_result"
    }
   ],
   "source": [
    "f.subs(sub_x0).applyfunc(lambda e: e.simplify().subs(q_nr.dot(q_nr), 1).doit()).T"
   ]
  },
  {
   "cell_type": "markdown",
   "metadata": {},
   "source": [
    "We do need the dynamics equations to get the A matrix to propagate the covariance matrix."
   ]
  },
  {
   "cell_type": "code",
   "execution_count": 11,
   "metadata": {
    "collapsed": false
   },
   "outputs": [
    {
     "data": {
      "image/png": "[encoded data removed]",
      "text/latex": [
       "$$\\left[\\begin{matrix}0 & \\omega_{z} & - \\omega_{y} & 1 & 0 & 0\\\\- \\omega_{z} & 0 & \\omega_{x} & 0 & 1 & 0\\\\\\omega_{y} & - \\omega_{x} & 0 & 0 & 0 & 1\\\\0 & 0 & 0 & 0 & 0 & 0\\\\0 & 0 & 0 & 0 & 0 & 0\\\\0 & 0 & 0 & 0 & 0 & 0\\end{matrix}\\right]$$"
      ],
      "text/plain": [
       "⎡ 0    ω_z  -ω_y  1  0  0⎤\n",
       "⎢                        ⎥\n",
       "⎢-ω_z   0    ωₓ   0  1  0⎥\n",
       "⎢                        ⎥\n",
       "⎢ω_y   -ωₓ   0    0  0  1⎥\n",
       "⎢                        ⎥\n",
       "⎢ 0     0    0    0  0  0⎥\n",
       "⎢                        ⎥\n",
       "⎢ 0     0    0    0  0  0⎥\n",
       "⎢                        ⎥\n",
       "⎣ 0     0    0    0  0  0⎦"
      ]
     },
     "execution_count": 11,
     "metadata": {},
     "output_type": "execute_result"
    }
   ],
   "source": [
    "A = f.jacobian(x).subs(sub_x0)\n",
    "A.simplify()\n",
    "A = A.subs(q_nr.dot(q_nr), 1)\n",
    "A"
   ]
  },
  {
   "cell_type": "markdown",
   "metadata": {},
   "source": [
    "# Magnetometer"
   ]
  },
  {
   "cell_type": "code",
   "execution_count": 12,
   "metadata": {
    "collapsed": false
   },
   "outputs": [
    {
     "data": {
      "image/png": "[encoded data removed]",
      "text/latex": [
       "$$\\left[\\begin{matrix}\\left(- 2 q_{0} q_{2} + 2 q_{1} q_{3}\\right) m_{D} + \\left(2 q_{0} q_{3} + 2 q_{1} q_{2}\\right) m_{E} + \\left(q^{2}_{0} + q^{2}_{1} - q^{2}_{2} - q^{2}_{3}\\right) m_{N}\\\\\\left(2 q_{0} q_{1} + 2 q_{2} q_{3}\\right) m_{D} + \\left(- 2 q_{0} q_{3} + 2 q_{1} q_{2}\\right) m_{N} + \\left(q^{2}_{0} - q^{2}_{1} + q^{2}_{2} - q^{2}_{3}\\right) m_{E}\\\\\\left(- 2 q_{0} q_{1} + 2 q_{2} q_{3}\\right) m_{E} + \\left(2 q_{0} q_{2} + 2 q_{1} q_{3}\\right) m_{N} + \\left(q^{2}_{0} - q^{2}_{1} - q^{2}_{2} + q^{2}_{3}\\right) m_{D}\\end{matrix}\\right]$$"
      ],
      "text/plain": [
       "⎡                                                     ⎛  2     2     2     2⎞ \n",
       "⎢(-2⋅q₀⋅q₂ + 2⋅q₁⋅q₃)⋅m_D + (2⋅q₀⋅q₃ + 2⋅q₁⋅q₂)⋅m_E + ⎝q₀  + q₁  - q₂  - q₃ ⎠⋅\n",
       "⎢                                                                             \n",
       "⎢                                                     ⎛  2     2     2     2⎞ \n",
       "⎢(2⋅q₀⋅q₁ + 2⋅q₂⋅q₃)⋅m_D + (-2⋅q₀⋅q₃ + 2⋅q₁⋅q₂)⋅m_N + ⎝q₀  - q₁  + q₂  - q₃ ⎠⋅\n",
       "⎢                                                                             \n",
       "⎢                                                     ⎛  2     2     2     2⎞ \n",
       "⎣(-2⋅q₀⋅q₁ + 2⋅q₂⋅q₃)⋅m_E + (2⋅q₀⋅q₂ + 2⋅q₁⋅q₃)⋅m_N + ⎝q₀  - q₁  - q₂  + q₃ ⎠⋅\n",
       "\n",
       "   ⎤\n",
       "m_N⎥\n",
       "   ⎥\n",
       "   ⎥\n",
       "m_E⎥\n",
       "   ⎥\n",
       "   ⎥\n",
       "m_D⎦"
      ]
     },
     "execution_count": 12,
     "metadata": {},
     "output_type": "execute_result"
    }
   ],
   "source": [
    "y_mag = m_n\n",
    "y_mag.to_matrix(frame_b).subs(sub_x0)"
   ]
  },
  {
   "cell_type": "code",
   "execution_count": 13,
   "metadata": {
    "collapsed": false
   },
   "outputs": [
    {
     "data": {
      "image/png": "[encoded data removed]",
      "text/latex": [
       "$$\\left[\\begin{matrix}0 & - \\left(- 2 q_{0} q_{1} + 2 q_{2} q_{3}\\right) m_{E} - \\left(2 q_{0} q_{2} + 2 q_{1} q_{3}\\right) m_{N} - \\left(q^{2}_{0} - q^{2}_{1} - q^{2}_{2} + q^{2}_{3}\\right) m_{D} & \\left(2 q_{0} q_{1} + 2 q_{2} q_{3}\\right) m_{D} + \\left(- 2 q_{0} q_{3} + 2 q_{1} q_{2}\\right) m_{N} + \\left(q^{2}_{0} - q^{2}_{1} + q^{2}_{2} - q^{2}_{3}\\right) m_{E} & 0 & 0 & 0\\\\\\left(- 2 q_{0} q_{1} + 2 q_{2} q_{3}\\right) m_{E} + \\left(2 q_{0} q_{2} + 2 q_{1} q_{3}\\right) m_{N} + \\left(q^{2}_{0} - q^{2}_{1} - q^{2}_{2} + q^{2}_{3}\\right) m_{D} & 0 & \\left(2 q_{0} q_{2} - 2 q_{1} q_{3}\\right) m_{D} + \\left(- 2 q_{0} q_{3} - 2 q_{1} q_{2}\\right) m_{E} + \\left(- q^{2}_{0} - q^{2}_{1} + q^{2}_{2} + q^{2}_{3}\\right) m_{N} & 0 & 0 & 0\\\\- \\left(2 q_{0} q_{1} + 2 q_{2} q_{3}\\right) m_{D} - \\left(- 2 q_{0} q_{3} + 2 q_{1} q_{2}\\right) m_{N} - \\left(q^{2}_{0} - q^{2}_{1} + q^{2}_{2} - q^{2}_{3}\\right) m_{E} & \\left(- 2 q_{0} q_{2} + 2 q_{1} q_{3}\\right) m_{D} + \\left(2 q_{0} q_{3} + 2 q_{1} q_{2}\\right) m_{E} + \\left(q^{2}_{0} + q^{2}_{1} - q^{2}_{2} - q^{2}_{3}\\right) m_{N} & 0 & 0 & 0 & 0\\end{matrix}\\right]$$"
      ],
      "text/plain": [
       "⎡                                                                             \n",
       "⎢                                        0                                    \n",
       "⎢                                                                             \n",
       "⎢                                                     ⎛  2     2     2     2⎞ \n",
       "⎢(-2⋅q₀⋅q₁ + 2⋅q₂⋅q₃)⋅m_E + (2⋅q₀⋅q₂ + 2⋅q₁⋅q₃)⋅m_N + ⎝q₀  - q₁  - q₂  + q₃ ⎠⋅\n",
       "⎢                                                                             \n",
       "⎢                                                      ⎛  2     2     2     2⎞\n",
       "⎣-(2⋅q₀⋅q₁ + 2⋅q₂⋅q₃)⋅m_D - (-2⋅q₀⋅q₃ + 2⋅q₁⋅q₂)⋅m_N - ⎝q₀  - q₁  + q₂  - q₃ ⎠\n",
       "\n",
       "                                                            ⎛  2     2     2  \n",
       "      -(-2⋅q₀⋅q₁ + 2⋅q₂⋅q₃)⋅m_E - (2⋅q₀⋅q₂ + 2⋅q₁⋅q₃)⋅m_N - ⎝q₀  - q₁  - q₂  +\n",
       "                                                                              \n",
       "                                                                              \n",
       "m_D                                           0                               \n",
       "                                                                              \n",
       "                                                           ⎛  2     2     2   \n",
       "⋅m_E  (-2⋅q₀⋅q₂ + 2⋅q₁⋅q₃)⋅m_D + (2⋅q₀⋅q₃ + 2⋅q₁⋅q₂)⋅m_E + ⎝q₀  + q₁  - q₂  - \n",
       "\n",
       "   2⎞                                                            ⎛  2     2   \n",
       " q₃ ⎠⋅m_D   (2⋅q₀⋅q₁ + 2⋅q₂⋅q₃)⋅m_D + (-2⋅q₀⋅q₃ + 2⋅q₁⋅q₂)⋅m_N + ⎝q₀  - q₁  + \n",
       "                                                                              \n",
       "                                                                ⎛    2     2  \n",
       "           (2⋅q₀⋅q₂ - 2⋅q₁⋅q₃)⋅m_D + (-2⋅q₀⋅q₃ - 2⋅q₁⋅q₂)⋅m_E + ⎝- q₀  - q₁  +\n",
       "                                                                              \n",
       "  2⎞                                                                          \n",
       "q₃ ⎠⋅m_N                                           0                          \n",
       "\n",
       "  2     2⎞              ⎤\n",
       "q₂  - q₃ ⎠⋅m_E   0  0  0⎥\n",
       "                        ⎥\n",
       "   2     2⎞             ⎥\n",
       " q₂  + q₃ ⎠⋅m_N  0  0  0⎥\n",
       "                        ⎥\n",
       "                        ⎥\n",
       "                 0  0  0⎦"
      ]
     },
     "execution_count": 13,
     "metadata": {},
     "output_type": "execute_result"
    }
   ],
   "source": [
    "C_mag = y_mag.to_matrix(frame_b).jacobian(x).subs(sub_x0)\n",
    "C_mag.simplify()\n",
    "C_mag"
   ]
  },
  {
   "cell_type": "markdown",
   "metadata": {},
   "source": [
    "# Accelerometer"
   ]
  },
  {
   "cell_type": "code",
   "execution_count": 14,
   "metadata": {
    "collapsed": false
   },
   "outputs": [
    {
     "data": {
      "image/png": "[encoded data removed]",
      "text/latex": [
       "$$\\left[\\begin{matrix}g \\left(\\left(2 q_{0} q_{1} + 2 q_{2} q_{3}\\right) \\left(\\operatorname{sin}\\left(\\alpha_{x}\\right) \\operatorname{sin}\\left(\\alpha_{y}\\right) \\operatorname{cos}\\left(\\alpha_{z}\\right) + \\operatorname{sin}\\left(\\alpha_{z}\\right) \\operatorname{cos}\\left(\\alpha_{x}\\right)\\right) + \\left(- 2 q_{0} q_{2} + 2 q_{1} q_{3}\\right) \\operatorname{cos}\\left(\\alpha_{y}\\right) \\operatorname{cos}\\left(\\alpha_{z}\\right) + \\left(\\operatorname{sin}\\left(\\alpha_{x}\\right) \\operatorname{sin}\\left(\\alpha_{z}\\right) - \\operatorname{sin}\\left(\\alpha_{y}\\right) \\operatorname{cos}\\left(\\alpha_{x}\\right) \\operatorname{cos}\\left(\\alpha_{z}\\right)\\right) \\left(q^{2}_{0} - q^{2}_{1} - q^{2}_{2} + q^{2}_{3}\\right)\\right) + a_{x}\\\\g \\left(\\left(2 q_{0} q_{1} + 2 q_{2} q_{3}\\right) \\left(- \\operatorname{sin}\\left(\\alpha_{x}\\right) \\operatorname{sin}\\left(\\alpha_{y}\\right) \\operatorname{sin}\\left(\\alpha_{z}\\right) + \\operatorname{cos}\\left(\\alpha_{x}\\right) \\operatorname{cos}\\left(\\alpha_{z}\\right)\\right) - \\left(- 2 q_{0} q_{2} + 2 q_{1} q_{3}\\right) \\operatorname{sin}\\left(\\alpha_{z}\\right) \\operatorname{cos}\\left(\\alpha_{y}\\right) + \\left(\\operatorname{sin}\\left(\\alpha_{x}\\right) \\operatorname{cos}\\left(\\alpha_{z}\\right) + \\operatorname{sin}\\left(\\alpha_{y}\\right) \\operatorname{sin}\\left(\\alpha_{z}\\right) \\operatorname{cos}\\left(\\alpha_{x}\\right)\\right) \\left(q^{2}_{0} - q^{2}_{1} - q^{2}_{2} + q^{2}_{3}\\right)\\right) + a_{y}\\\\g \\left(- \\left(2 q_{0} q_{1} + 2 q_{2} q_{3}\\right) \\operatorname{sin}\\left(\\alpha_{x}\\right) \\operatorname{cos}\\left(\\alpha_{y}\\right) + \\left(- 2 q_{0} q_{2} + 2 q_{1} q_{3}\\right) \\operatorname{sin}\\left(\\alpha_{y}\\right) + \\left(q^{2}_{0} - q^{2}_{1} - q^{2}_{2} + q^{2}_{3}\\right) \\operatorname{cos}\\left(\\alpha_{x}\\right) \\operatorname{cos}\\left(\\alpha_{y}\\right)\\right) + a_{z}\\end{matrix}\\right]$$"
      ],
      "text/plain": [
       "⎡   ⎛                                                                         \n",
       "⎢ g⋅⎝(2⋅q₀⋅q₁ + 2⋅q₂⋅q₃)⋅(sin(αₓ)⋅sin(α_y)⋅cos(α_z) + sin(α_z)⋅cos(αₓ)) + (-2⋅\n",
       "⎢                                                                             \n",
       "⎢  ⎛                                                                          \n",
       "⎢g⋅⎝(2⋅q₀⋅q₁ + 2⋅q₂⋅q₃)⋅(-sin(αₓ)⋅sin(α_y)⋅sin(α_z) + cos(αₓ)⋅cos(α_z)) - (-2⋅\n",
       "⎢                                                                             \n",
       "⎢                                    ⎛                                        \n",
       "⎣                                  g⋅⎝-(2⋅q₀⋅q₁ + 2⋅q₂⋅q₃)⋅sin(αₓ)⋅cos(α_y) + \n",
       "\n",
       "                                                                              \n",
       "q₀⋅q₂ + 2⋅q₁⋅q₃)⋅cos(α_y)⋅cos(α_z) + (sin(αₓ)⋅sin(α_z) - sin(α_y)⋅cos(αₓ)⋅cos(\n",
       "                                                                              \n",
       "                                                                              \n",
       "q₀⋅q₂ + 2⋅q₁⋅q₃)⋅sin(α_z)⋅cos(α_y) + (sin(αₓ)⋅cos(α_z) + sin(α_y)⋅sin(α_z)⋅cos\n",
       "                                                                              \n",
       "                                ⎛  2     2     2     2⎞                 ⎞     \n",
       "(-2⋅q₀⋅q₂ + 2⋅q₁⋅q₃)⋅sin(α_y) + ⎝q₀  - q₁  - q₂  + q₃ ⎠⋅cos(αₓ)⋅cos(α_y)⎠ + a_\n",
       "\n",
       "      ⎛  2     2     2     2⎞⎞      ⎤\n",
       "α_z))⋅⎝q₀  - q₁  - q₂  + q₃ ⎠⎠ + aₓ ⎥\n",
       "                                    ⎥\n",
       "      ⎛  2     2     2     2⎞⎞      ⎥\n",
       "(αₓ))⋅⎝q₀  - q₁  - q₂  + q₃ ⎠⎠ + a_y⎥\n",
       "                                    ⎥\n",
       "                                    ⎥\n",
       "z                                   ⎦"
      ]
     },
     "execution_count": 14,
     "metadata": {},
     "output_type": "execute_result"
    }
   ],
   "source": [
    "y_accel = g*frame_n.z + a_b_coord[0]*frame_b.x + a_b_coord[1]*frame_b.y + a_b_coord[2]*frame_b.z\n",
    "y_accel.to_matrix(frame_b)"
   ]
  },
  {
   "cell_type": "code",
   "execution_count": 15,
   "metadata": {
    "collapsed": false
   },
   "outputs": [
    {
     "data": {
      "image/png": "[encoded data removed]",
      "text/latex": [
       "$$\\left[\\begin{matrix}0 & - g \\left(q^{2}_{0} - q^{2}_{1} - q^{2}_{2} + q^{2}_{3}\\right) & g \\left(2 q_{0} q_{1} + 2 q_{2} q_{3}\\right) & 0 & 0 & 0\\\\g \\left(q^{2}_{0} - q^{2}_{1} - q^{2}_{2} + q^{2}_{3}\\right) & 0 & g \\left(2 q_{0} q_{2} - 2 q_{1} q_{3}\\right) & 0 & 0 & 0\\\\- g \\left(2 q_{0} q_{1} + 2 q_{2} q_{3}\\right) & g \\left(- 2 q_{0} q_{2} + 2 q_{1} q_{3}\\right) & 0 & 0 & 0 & 0\\end{matrix}\\right]$$"
      ],
      "text/plain": [
       "⎡                              ⎛  2     2     2     2⎞                        \n",
       "⎢            0              -g⋅⎝q₀  - q₁  - q₂  + q₃ ⎠  g⋅(2⋅q₀⋅q₁ + 2⋅q₂⋅q₃) \n",
       "⎢                                                                             \n",
       "⎢  ⎛  2     2     2     2⎞                                                    \n",
       "⎢g⋅⎝q₀  - q₁  - q₂  + q₃ ⎠              0               g⋅(2⋅q₀⋅q₂ - 2⋅q₁⋅q₃) \n",
       "⎢                                                                             \n",
       "⎣ -g⋅(2⋅q₀⋅q₁ + 2⋅q₂⋅q₃)      g⋅(-2⋅q₀⋅q₂ + 2⋅q₁⋅q₃)              0           \n",
       "\n",
       "        ⎤\n",
       " 0  0  0⎥\n",
       "        ⎥\n",
       "        ⎥\n",
       " 0  0  0⎥\n",
       "        ⎥\n",
       " 0  0  0⎦"
      ]
     },
     "execution_count": 15,
     "metadata": {},
     "output_type": "execute_result"
    }
   ],
   "source": [
    "C_accel = y_accel.to_matrix(frame_b).jacobian(x).subs(sub_x0)\n",
    "C_accel.simplify()\n",
    "C_accel"
   ]
  },
  {
   "cell_type": "markdown",
   "metadata": {},
   "source": [
    "# Generate Numerical Computation Routines"
   ]
  },
  {
   "cell_type": "code",
   "execution_count": 16,
   "metadata": {
    "collapsed": false
   },
   "outputs": [
    {
     "data": {
      "text/plain": [
       "{'f_A': <function numpy.<lambda>>,\n",
       " 'f_C_accel': <function numpy.<lambda>>,\n",
       " 'f_C_mag': <function numpy.<lambda>>,\n",
       " 'f_quat_from_euler': <function numpy.<lambda>>,\n",
       " 'f_sim': <function numpy.<lambda>>,\n",
       " 'f_sim_est': <function numpy.<lambda>>,\n",
       " 'f_y_accel': <function numpy.<lambda>>,\n",
       " 'f_y_mag': <function numpy.<lambda>>}"
      ]
     },
     "execution_count": 16,
     "metadata": {},
     "output_type": "execute_result"
    }
   ],
   "source": [
    "x_r = sympy.Matrix(list(q_nr) + list(alpha_b_coord) + list(b_b_coord))\n",
    "u_r = sympy.Matrix(list(omega_b_coord) + list(b_b_coord.diff(t)))\n",
    "f_r = x_r.diff(t).subs(sol_q_dot).subs(sol_alpha_dot)\n",
    "x_def = sympy.DeferredVector('x')\n",
    "u_def = sympy.DeferredVector('u')\n",
    "m_def = sympy.DeferredVector('m')\n",
    "a_def = sympy.DeferredVector('a')\n",
    "sub_ss_r = {}\n",
    "sub_ss_r.update({x_r[i]:x_def[i] for i in range(len(x_r))})\n",
    "sub_ss_r.update({u_r[i]:u_def[i] for i in range(len(u_r))})\n",
    "sub_ss_r.update({m_n_coord[i]:m_def[i] for i in range(len(m_n_coord))})\n",
    "sub_ss_r.update({a_b_coord[i]:a_def[i] for i in range(len(a_b_coord))})\n",
    "f_r_ss = f_r.subs(sub_ss_r)\n",
    "use_array = [{'ImmutableMatrix': numpy.array}, \"numpy\"]\n",
    "\n",
    "f_sim_r = sympy.lambdify((t, x_def, u_def), f_r_ss, use_array)\n",
    "f_C_accel = sympy.lambdify((x_def, g), C_accel.subs(sub_ss_r), use_array)\n",
    "f_y_accel = sympy.lambdify((x_def, g, a_def), y_accel.to_matrix(frame_b).subs(sub_x0).subs(sub_ss_r), use_array)\n",
    "f_C_mag = sympy.lambdify((x_def, g, m_def), C_mag.subs(sub_ss_r), use_array)\n",
    "f_y_mag = sympy.lambdify((x_def, m_def), y_mag.to_matrix(frame_b).subs(sub_x0).subs(sub_ss_r), use_array)\n",
    "f_sim_est = sympy.lambdify((q_nr_coord, omega_b_coord),\n",
    "                           sympy.Matrix(x_r[0:4]).diff(t).subs(sol_q_dot), use_array)\n",
    "f_quat_from_euler = sympy.lambdify(alpha_b_coord,\n",
    "                                   quaternion.quat_from_euler(*alpha_b_coord)) \n",
    "f_A = sympy.lambdify((x_def, u_def), A.subs(sub_ss_r), use_array)\n",
    "lambda_functions = {\n",
    "    'f_sim': f_sim_r,\n",
    "    'f_A': f_A,\n",
    "    'f_sim_est': f_sim_est,\n",
    "    'f_C_accel': f_C_accel,\n",
    "    'f_y_accel': f_y_accel,\n",
    "    'f_C_mag': f_C_mag,\n",
    "    'f_y_mag': f_y_mag,\n",
    "    'f_quat_from_euler': f_quat_from_euler,\n",
    "}\n",
    "lambda_functions"
   ]
  },
  {
   "cell_type": "markdown",
   "metadata": {},
   "source": [
    "# Code Generation"
   ]
  },
  {
   "cell_type": "code",
   "execution_count": 17,
   "metadata": {
    "collapsed": false
   },
   "outputs": [],
   "source": [
    "def code_gen_matrix(name, mat, sub):\n",
    "    m, n = mat.shape\n",
    "    s = 'Matrix<{:d}, {:d}> {:s};\\n'.format(m, n, name)\n",
    "    s += '{:s}.zero();\\n'.format(name)\n",
    "    for i in range(m):\n",
    "        for j in range(n):\n",
    "            val = mat[i,j].subs(sub)\n",
    "            if val == 0:\n",
    "                continue\n",
    "            s += '{:s}({:d},{:d}) = {:s};\\n'.format(name, i, j, sympy.ccode(mat[i,j].subs(sub)))\n",
    "    s += '\\n'\n",
    "    # don't use power for squared term\n",
    "    s = re.sub('pow\\(([\\word]+), 2\\)', '\\g<1>*\\g<1>', s)\n",
    "    return s"
   ]
  },
  {
   "cell_type": "code",
   "execution_count": 20,
   "metadata": {
    "collapsed": false
   },
   "outputs": [
    {
     "name": "stdout",
     "output_type": "stream",
     "text": [
      "Matrix<6, 6> A;\n",
      "A.zero();\n",
      "A(0,1) = omega_z;\n",
      "A(0,2) = -omega_y;\n",
      "A(0,3) = 1;\n",
      "A(1,0) = -omega_z;\n",
      "A(1,2) = omega_x;\n",
      "A(1,4) = 1;\n",
      "A(2,0) = omega_y;\n",
      "A(2,1) = -omega_x;\n",
      "A(2,5) = 1;\n",
      "\n",
      "Matrix<3, 6> C_mag;\n",
      "C_mag.zero();\n",
      "C_mag(0,1) = -m_D*(q_0*q_0 - q_1*q_1 - q_2*q_2 + q_3*q_3) - m_E*(-2*q_0*q_1 + 2*q_2*q_3) - m_N*(2*q_0*q_2 + 2*q_1*q_3);\n",
      "C_mag(0,2) = m_D*(2*q_0*q_1 + 2*q_2*q_3) + m_E*(q_0*q_0 - q_1*q_1 + q_2*q_2 - q_3*q_3) + m_N*(-2*q_0*q_3 + 2*q_1*q_2);\n",
      "C_mag(1,0) = m_D*(q_0*q_0 - q_1*q_1 - q_2*q_2 + q_3*q_3) + m_E*(-2*q_0*q_1 + 2*q_2*q_3) + m_N*(2*q_0*q_2 + 2*q_1*q_3);\n",
      "C_mag(1,2) = m_D*(2*q_0*q_2 - 2*q_1*q_3) + m_E*(-2*q_0*q_3 - 2*q_1*q_2) + m_N*(-q_0*q_0 - q_1*q_1 + q_2*q_2 + q_3*q_3);\n",
      "C_mag(2,0) = -m_D*(2*q_0*q_1 + 2*q_2*q_3) - m_E*(q_0*q_0 - q_1*q_1 + q_2*q_2 - q_3*q_3) - m_N*(-2*q_0*q_3 + 2*q_1*q_2);\n",
      "C_mag(2,1) = m_D*(-2*q_0*q_2 + 2*q_1*q_3) + m_E*(2*q_0*q_3 + 2*q_1*q_2) + m_N*(q_0*q_0 + q_1*q_1 - q_2*q_2 - q_3*q_3);\n",
      "\n",
      "Matrix<3, 6> C_accel;\n",
      "C_accel.zero();\n",
      "C_accel(0,1) = -g*(q_0*q_0 - q_1*q_1 - q_2*q_2 + q_3*q_3);\n",
      "C_accel(0,2) = g*(2*q_0*q_1 + 2*q_2*q_3);\n",
      "C_accel(1,0) = g*(q_0*q_0 - q_1*q_1 - q_2*q_2 + q_3*q_3);\n",
      "C_accel(1,2) = g*(2*q_0*q_2 - 2*q_1*q_3);\n",
      "C_accel(2,0) = -g*(2*q_0*q_1 + 2*q_2*q_3);\n",
      "C_accel(2,1) = g*(-2*q_0*q_2 + 2*q_1*q_3);\n",
      "\n",
      "Matrix<3, 1> y_accel;\n",
      "y_accel.zero();\n",
      "y_accel(0,0) = a_x + g*(-2*q_0*q_2 + 2*q_1*q_3);\n",
      "y_accel(1,0) = a_y + g*(2*q_0*q_1 + 2*q_2*q_3);\n",
      "y_accel(2,0) = a_z + g*(q_0*q_0 - q_1*q_1 - q_2*q_2 + q_3*q_3);\n",
      "\n",
      "Matrix<3, 1> y_mag;\n",
      "y_mag.zero();\n",
      "y_mag(0,0) = m_D*(-2*q_0*q_2 + 2*q_1*q_3) + m_E*(2*q_0*q_3 + 2*q_1*q_2) + m_N*(q_0*q_0 + q_1*q_1 - q_2*q_2 - q_3*q_3);\n",
      "y_mag(1,0) = m_D*(2*q_0*q_1 + 2*q_2*q_3) + m_E*(q_0*q_0 - q_1*q_1 + q_2*q_2 - q_3*q_3) + m_N*(-2*q_0*q_3 + 2*q_1*q_2);\n",
      "y_mag(2,0) = m_D*(q_0*q_0 - q_1*q_1 - q_2*q_2 + q_3*q_3) + m_E*(-2*q_0*q_1 + 2*q_2*q_3) + m_N*(2*q_0*q_2 + 2*q_1*q_3);\n",
      "\n",
      "\n"
     ]
    }
   ],
   "source": [
    "s = ''\n",
    "s += code_gen_matrix('A', A, sub_no_t)\n",
    "s += code_gen_matrix('C_mag', C_mag, sub_no_t)\n",
    "s += code_gen_matrix('C_accel', C_accel, sub_no_t)\n",
    "s += code_gen_matrix('y_accel', y_accel.to_matrix(frame_b).subs(sub_x0), sub_no_t)\n",
    "s += code_gen_matrix('y_mag', y_mag.to_matrix(frame_b).subs(sub_x0), sub_no_t)\n",
    "print(s)"
   ]
  },
  {
   "cell_type": "markdown",
   "metadata": {},
   "source": [
    "# Save Data"
   ]
  },
  {
   "cell_type": "code",
   "execution_count": null,
   "metadata": {
    "collapsed": false
   },
   "outputs": [],
   "source": [
    "sympy_utils.save(['lambda_functions'], 'deriv.pkl', locals())\n",
    "sympy_utils.load('deriv.pkl')\n",
    "\n",
    "sympy_utils.sympy_save(['C_accel', 'C_mag'], 'deriv.sympy', locals())\n",
    "sympy_utils.sympy_load('deriv.sympy');"
   ]
  }
 ],
 "metadata": {
  "kernelspec": {
   "display_name": "Python 3",
   "language": "python",
   "name": "python3"
  },
  "language_info": {
   "codemirror_mode": {
    "name": "ipython",
    "version": 3
   },
   "file_extension": ".py",
   "mimetype": "text/x-python",
   "name": "python",
   "nbconvert_exporter": "python",
   "pygments_lexer": "ipython3",
   "version": "3.4.3"
  }
 },
 "nbformat": 4,
 "nbformat_minor": 0
}
